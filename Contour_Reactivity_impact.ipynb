{
 "cells": [
  {
   "cell_type": "code",
   "execution_count": 1,
   "id": "a74b08dd-1f1e-437d-bf59-f2997a0f7cc5",
   "metadata": {
    "tags": []
   },
   "outputs": [],
   "source": [
    "import numpy as np\n",
    "import pandas as pd\n",
    "from scipy.integrate import odeint\n",
    "import matplotlib.pyplot as plt\n",
    "plt.rcParams[\"text.usetex\"] = True\n",
    "from scipy.integrate import simps\n",
    "from matplotlib.ticker import FuncFormatter\n",
    "import matplotlib.ticker as tkr"
   ]
  },
  {
   "cell_type": "code",
   "execution_count": 2,
   "id": "6369259b-be09-4d82-8e92-bdc44910188c",
   "metadata": {
    "tags": []
   },
   "outputs": [],
   "source": [
    "#Fixed parameter values\n",
    "pi = 1710; \n",
    "#beta1 =1.72;\n",
    "mu =1/(83*365); \n",
    "eps =0.33;   #Youngji paper\n",
    "tau = 0.8; tau = 0.8;\n",
    "psi = 0.5; \n",
    "phi1, phi2 = 1/180, 1/180\n",
    "h1= 0.0012; \n",
    "h2 = (1-0.74)*h1;\n",
    "rho = 1/14; rhot =1/10; rhoh =1/10;\n",
    "eta1= 0.71; eta2= 0.41; eta4= 0.85; eta3 = 0.46;\n",
    "a = 1/3  # fixed to be 3 days  \n",
    "\n",
    "theta = 0.5 # parameter adjusting reduced perception risk (assumed)\n",
    "delta = 0.8  # proportion of tested people who quarantine/adhere to protective measures (assumed)\n",
    "alpha1, alpha2 = 0.5, 0.5  # parameters which shows to which information people are more concerned\n",
    "\n",
    "Dtilde, Btilde = 5, 5  # reactivity to information in vaccination\n",
    "D, B = 1*Dtilde, 1*Btilde # reactivity to information in testing (assumed equal)\n",
    "Fmax = 0.027; F10 = 0.0029; F20 = (0.9)*F10;\n",
    "Tmax = 0.5; T10 = 0.03; T20 = 0.03    #Tmax is adjusted to have a good fit\n",
    "\n",
    "# Fitted parameters\n",
    "k1=  0.51\n",
    "beta1=  0.67\n",
    "beta2=  0.39\n",
    "xi=  0.99\n",
    "d1 =0.000071; d2 = 0.000073;  "
   ]
  },
  {
   "cell_type": "code",
   "execution_count": 3,
   "id": "62efc8e2-dd24-46c8-b229-de8990b65fdf",
   "metadata": {
    "tags": []
   },
   "outputs": [],
   "source": [
    "# Initial conditions\n",
    "NN = 51815808\n",
    "V2_0 = 2891 #int(0.87*Data_Omicron['new_vaccinations'].iloc[0])\n",
    "V1_0 = 431; #int(0.13*Data_Omicron['new_vaccinations'].iloc[0])\n",
    "E2_0 = 352645 #int(0.87*20*NewCases.iloc[0])\n",
    "A2_0 = 70529 #int(0.2*E2_0)\n",
    "I2_0 = 282116  #int(0.8*E2_0)\n",
    "IT2_0 = 17632 #int(0.87*NewCases.iloc[0])\n",
    "E1_0 = 52694 #int(0.13*20*NewCases.iloc[0])  # 0.13 indicates that 13% of the total population is in the first dynamics\n",
    "A1_0 = 10538 #int(0.2*E1_0)\n",
    "I1_0 = 42155 #int(0.8*E1_0)\n",
    "IT1_0 = 2634 #int(0.13*NewCases.iloc[0])\n",
    "H_0 = 202  # ICU\n",
    "R_0 = 200\n",
    "Dth_0 = 15\n",
    "MV_0 = k1*((I1_0 + I2_0 + IT1_0 + IT2_0 + H_0)/NN)\n",
    "MN_0 = k1*((H_0 + d1*(I1_0+I2_0) + d2*H_0)/NN)\n",
    "S2_0 = 40000000 # 0.9*(Omicron_New_Cases['people_vaccinated'].iloc[0])\n",
    "S3_0 = 4365186 #0.1*(Omicron_New_Cases['people_vaccinated'].iloc[0])\n",
    "S1_0 = NN-(S2_0 + S3_0 + V1_0 + V2_0 + E1_0 + E2_0 + A1_0 + A2_0 + I1_0 + I2_0 + IT1_0 + IT2_0 + H_0 + R_0)\n",
    "# T_20 = T20 + (Tmax -T20)*(alpha2*(theta*Dtilde*MV_0)/(1+theta*Dtilde*MV_0) + (1-alpha2)*(theta*Dtilde*MN_0)/(1+theta*Dtilde*MN_0) )\n",
    "# F_20 = F20 + (Fmax -F20)*(alpha2*(theta*D*MV_0)/(1+theta*D*MV_0) + (1-alpha2)*(theta*D*MN_0)/(1+theta*D*MN_0))\n",
    "# New_cases0 = eps*E2_0\n",
    "# New_tested0 = xi*T_20*A2_0 + T_20*I2_0\n",
    "# New_vaccinated0 = F_20*S2_0 + F_20*S3_0\n",
    "# New_hospital0 = h1*IT1_0 + h2*IT2_0"
   ]
  },
  {
   "cell_type": "code",
   "execution_count": 4,
   "id": "30f3f3fa-4aa4-4b58-9eef-5117779fb013",
   "metadata": {},
   "outputs": [],
   "source": [
    "x0 = [S1_0, S2_0, S3_0, V1_0, V2_0, E1_0, E2_0, A1_0, A2_0, I1_0, I2_0, IT1_0, IT2_0, H_0, R_0, Dth_0, MV_0, MN_0]"
   ]
  },
  {
   "cell_type": "code",
   "execution_count": 5,
   "id": "e5c5d522-cc32-4605-a303-048bed4377d8",
   "metadata": {
    "tags": []
   },
   "outputs": [],
   "source": [
    "def deriv(x, t, D, Dtilde):\n",
    "    \n",
    "    S1, S2, S3, V1, V2, E1, E2, A1, A2, I1, I2, I_T1, I_T2, H, R, Dth, MV, MN = x\n",
    "    dx = np.zeros(18)\n",
    "    N= S1 + S2+ S3 + V1 + V2 + E1 + E2 + A1 + A2 + I1 + I2 + I_T1 + I_T2 + H + R\n",
    "    \n",
    "    T1 = T10 + (Tmax -T10)*(alpha1*(Dtilde*MV)/(1+Dtilde*MV) + (1-alpha1)*(Dtilde*MN)/(1+Dtilde*MN) )\n",
    "    F1 = F10 + (Fmax -F10)*(alpha1*(D*MV)/(1+D*MV) + (1-alpha1)*(D*MN)/(1+D*MN))\n",
    "    \n",
    "    T2 = T20 + (Tmax -T20)*(alpha2*(theta*Dtilde*MV)/(1+theta*Dtilde*MV) + (1-alpha2)*(theta*Dtilde*MN)/(1+theta*Dtilde*MN) )\n",
    "    F2 = F20 + (Fmax -F20)*(alpha2*(theta*D*MV)/(1+theta*D*MV) + (1-alpha2)*(theta*D*MN)/(1+theta*D*MN))\n",
    "    \n",
    "    L1 = beta1*(I1 + I2 + psi*(A1 + A2) +(1-delta)*(I_T1 + I_T2))/(N-(delta*(I_T1 + I_T2) + H))\n",
    "    L2 = beta2*(I1 + I2 + psi*(A1 + A2) +(1-delta)*(I_T1 + I_T2))/(N-(delta*(I_T1 + I_T2) + H))\n",
    "    \n",
    "    dx[0] = pi-(F1 +L1 +mu)*S1\n",
    "    dx[1] = phi1*V1 -((1-eta2)*L2+F2+mu)*S2\n",
    "    dx[2] = phi2*R-((1-eta3)*L2+F2+mu)*S3\n",
    "    dx[3] = F1*S1-phi1*V1-(1-eta1)*L2*V1-mu*V1\n",
    "    dx[4] = F2*S2+F2*S3-(1-eta4)*L2*V2-mu*V2\n",
    "    dx[5] = L1*S1-(eps+mu)*E1\n",
    "    dx[6] = (1-eta1)*L2*V1+(1-eta4)*L2*V2+L2*((1-eta2)*S2+(1-eta3)*S3)-(mu+eps)*E2\n",
    "    dx[7] = (1-tau)*eps*E1-xi*T1*A1-(rho+mu)*A1\n",
    "    dx[8] = (1-tau)*eps*E2-xi*T2*A2-(rho+mu)*A2\n",
    "    dx[9] = tau*eps*E1-T1*I1-(rho+d1+mu)*I1\n",
    "    dx[10] = tau*eps*E2-T2*I2-(rho+d1+mu)*I2\n",
    "    dx[11] = xi*T1*A1+T1*I1-(rhot+h1+mu)*I_T1\n",
    "    dx[12] = xi*T2*A2+T2*I2-(rhot+h2+mu)*I_T2\n",
    "    dx[13] = h1*I_T1+h2*I_T2-rhoh*H-(d2+mu)*H\n",
    "    dx[14] = rho*(A1+A2+I1+I2)+rhot*(I_T1+I_T2)+rhoh*H-(phi2+mu)*R\n",
    "    dx[15] = d1*(I1+I2)+d2*H\n",
    "    dx[16] = a*(k1*((I_T1+I_T2+I1+I2+H)/NN)-MV) \n",
    "    dx[17] = a*(k1*((H + d1*(I1 + I2) + d2*H)/NN)-MN)\n",
    "    # dx[18] = eps*E2\n",
    "    # dx[19] = xi*T2*A2+T2*I2\n",
    "    # dx[20] = F2*S2+F2*S3\n",
    "    # dx[21] = h2*I_T2\n",
    "    return dx"
   ]
  },
  {
   "cell_type": "code",
   "execution_count": 6,
   "id": "e1d69c96-93bb-4834-b902-5918c7ea884b",
   "metadata": {
    "tags": []
   },
   "outputs": [],
   "source": [
    "t = np.linspace(0,120,120)"
   ]
  },
  {
   "cell_type": "code",
   "execution_count": 7,
   "id": "a6a837f6-0304-4751-8a49-3d7fe9bac618",
   "metadata": {},
   "outputs": [],
   "source": [
    "Cum_infectious1 = np.zeros(len(t));     \n",
    "Cum_hosp1 = np.zeros(len(t));          \n",
    "Cum_vacc1 = np.zeros(len(t));           \n",
    "Cum_tested1 = np.zeros(len(t));        \n",
    "Cum_tested1_symptomatic = np.zeros(len(t)); \n",
    "Cum_death = np.zeros(len(t)); \n",
    "\n",
    "def CI_TC(D, Dtilde):    \n",
    "    \n",
    "    ret = odeint(deriv, x0, t, args=(D, Dtilde))\n",
    "    \n",
    "    # Cum_cases = np.sum(ret[:,18])\n",
    "    # Cum_confirmed_cases = np.sum(ret[:,19])\n",
    "    # Cum_vaccinated = np.sum(ret[:,20])\n",
    "    # Cum_hospitalized = np.sum(ret[:,21])\n",
    "    Cum_infectious1[0] = I1_0 + I2_0; Cum_tested1[0] = IT1_0 + IT2_0; Cum_hosp1[0] = H_0; Cum_vacc1[0] = V1_0 + V2_0; Cum_death[0] = Dth_0 \n",
    "    \n",
    "    for i0 in range(1,len(t)):\n",
    "        Test1_1 = T10 + (Tmax -T10)*(alpha1* np.divide(Dtilde*ret[:i0+1,16],(1+Dtilde*ret[:i0+1,16])) + (1-alpha1)* np.divide(Dtilde*ret[:i0+1,17],(1+Dtilde*ret[:i0+1,17]))) \n",
    "        Test2_1 = T20 + (Tmax -T20)*(alpha2* np.divide(theta*Dtilde*ret[:i0+1,16],(1+theta*Dtilde*ret[:i0+1,16])) + (1-alpha2)* np.divide(theta*Dtilde*ret[:i0+1,17],(1+theta*Dtilde*ret[:i0+1,17])))\n",
    "\n",
    "        Vac1_1 = F10 + (Fmax -F10)*(alpha1*np.divide(D*ret[:i0+1,16],(1+D*ret[:i0+1,16])) + (1-alpha1)*np.divide(D*ret[:i0+1,17],(1+D*ret[:i0+1,17])))\n",
    "        Vac2_1 = F20 + (Fmax -F20)*(alpha2* np.divide(theta*D*ret[:i0+1,16],(1+theta*D*ret[:i0+1,16])) + (1-alpha2)* np.divide(theta*D*ret[:i0+1,17],(1+theta*D*ret[:i0+1,17])))\n",
    "        \n",
    "        #Cum_infectious1[i0] = A1_0 + A2_0 + I1_0 + I2_0 + np.trapz(eps*(ret[:i0+1,5] + ret[:i0+1,6] ), t[:i0+1]) # full incidence, i.e. Incindence of asymptomatic and symptomatic\n",
    "        \n",
    "        Cum_infectious1[i0] =  I1_0 + I2_0 + np.trapz(tau*eps*(ret[:i0+1,5] + ret[:i0+1,6] ) , t[:i0+1])  # Incindence of only symptomatic\n",
    "        Cum_hosp1[i0] =  H_0 + np.trapz(h1*ret[:i0+1,11] + h2*ret[:i0+1,12], t[:i0+1])\n",
    "        Cum_vacc1[i0] = V1_0 + V2_0 + np.trapz(np.multiply(Vac1_1,ret[:i0+1,0]) + np.multiply(Vac2_1,(ret[:i0+1,1]+ret[:i0+1,2])),t[:i0+1])\n",
    "        Cum_tested1[i0] = IT1_0 + IT2_0 + np.trapz(np.multiply(Test1_1,(xi*ret[:i0+1,7]+ ret[:i0+1,9])) + np.multiply(Test2_1,(xi*ret[:i0+1,8]+ ret[:i0+1,10])),t[:i0+1])\n",
    "        \n",
    "        #Cum_tested1_symptomatic[i0] = IT1_0 + IT2_0 + np.trapz(np.multiply(Test1_1,ret[:i0+1,9]) + np.multiply(Test2_1,ret[:i0+1,10]),t[:i0+1])\n",
    "        #Cum_death[i0] =  Dth_0  +  np.trapz(d1*(ret[:i0+1,9] + ret[:i0+1,10])+ d2*ret[:i0+1,13],t[:i0+1])\n",
    "\n",
    "   \n",
    "    Hosp_treatment_cost = 557.3*(1/rhoh)*Cum_hosp1[-1]   # $557.3 - average daily cost of treatment in hospital, 1/rhoh - period spent in hospital before recovery,  \n",
    "    Out_patient_treatment_cost = 50.5*1*(0.2*Cum_tested1[-1]) # $50.5 - average daily Outpatient treatment, we assumed 20% of tested people take this treatment, 1/rhot is recovery period\n",
    "    Medical_treatment_cost = Hosp_treatment_cost + Out_patient_treatment_cost\n",
    "    \n",
    "    Vaccination_cost = 35.76*Cum_vacc1[-1]  # $35.76 is vaccination cost/person = vaccination cost ($17.89) + vaccination procedure cost($16.87) + logistic cost ($1)\n",
    "    Testing_cost = 25.41*Cum_tested1[-1] # The cost for Rapid Antigin Test (RAT) in South Korea from 20,000 to 50,000 Won. We take the averge 35,000 won == $25.41, PCR test 60000 - 80000, average = $50.56\n",
    "    \n",
    "    Total_cost = Medical_treatment_cost + Vaccination_cost + Testing_cost\n",
    "    Costs = [Hosp_treatment_cost, Out_patient_treatment_cost, Vaccination_cost, Testing_cost]\n",
    "    return Total_cost, Cum_infectious1[-1], Cum_tested1[-1],Cum_hosp1[-1], 0.2*Cum_tested1[-1],Cum_vacc1[-1],Costs"
   ]
  },
  {
   "cell_type": "code",
   "execution_count": 8,
   "id": "468c48b5-be38-4099-ad78-d0eb0848e1ff",
   "metadata": {},
   "outputs": [
    {
     "name": "stdout",
     "output_type": "stream",
     "text": [
      "D_0_Dtilde_0(Total cases, Tested, Hospitalized, outpatient, vaccinated, total cost)= [37111698.78803756, 13511802.533965562, 57471.28501985501, 2702360.5067931125, 7018946.233727417, 1051089096.7148614]\n",
      "D_0_Dtilde_0 Costs (Hosp_treatment_cost, Out_patient_treatment_cost, Vaccination_cost, Testing_cost)= [320287471.415652, 136469205.59305218, 250997517.3180924, 343334902.3880649]\n",
      "D_0_Dtilde_10(Total cases, Tested, Hospitalized, outpatient, vaccinated, total cost)= [30547308.842918787, 19139997.162965156, 89075.87031127827, 3827999.4325930313, 8268926.073013823, 1471777920.8726208]\n",
      "D_0_Dtilde_10 Costs (Hosp_treatment_cost, Out_patient_treatment_cost, Vaccination_cost, Testing_cost)= [496419825.2447538, 193313971.34594807, 295696796.3709743, 486347327.91094464]\n",
      "D_10_Dtilde_0(Total cases, Tested, Hospitalized, outpatient, vaccinated, total cost)= [35139796.40890813, 12803605.420439005, 54493.18466653977, 2560721.084087801, 10988122.718784122, 1151281815.0501354]\n",
      "D_10_Dtilde_0 Costs (Hosp_treatment_cost, Out_patient_treatment_cost, Vaccination_cost, Testing_cost)= [303690518.1466261, 129316414.74643396, 392935268.4237202, 325339613.7333551]\n",
      "D_10_Dtilde_10(Total cases, Tested, Hospitalized, outpatient, vaccinated, total cost)= [28660383.82069004, 17780664.34443316, 82847.3331268047, 3556132.868886632, 12383241.114396853, 1535924280.6373355]\n",
      "D_10_Dtilde_10 Costs (Hosp_treatment_cost, Out_patient_treatment_cost, Vaccination_cost, Testing_cost)= [461708187.51568264, 179584709.8787749, 442824702.2508314, 451806680.99204654]\n"
     ]
    }
   ],
   "source": [
    "nn = 20;\n",
    "D_values = np.linspace(0,10,nn+1);\n",
    "Dtilde_values = np.linspace(0,10, nn+1)\n",
    "\n",
    "Cost = [[] for i in range(0,nn+1)]; \n",
    "CI = [[] for i in range(0,nn+1)];\n",
    "Confirmed_cases = [[] for i in range(0,nn+1)]; \n",
    "\n",
    "i = 0;\n",
    "\n",
    "levels_ci = 21 #np.linspace(-38,17,nn+1)\n",
    "levels_confirmed_case = 21 #np.linspace(0,40,nn+1)\n",
    "levels_tc = 21#np.linspace(-26,16,nn+1)\n",
    "\n",
    "Base_total_cost, Base_final_ci, Base_confirmed_cases,_,_,_,_  = CI_TC(0, 0) \n",
    "\n",
    "for D in D_values:\n",
    "    \n",
    "           \n",
    "    for Dtilde in Dtilde_values: \n",
    "                         \n",
    "        total_cost, final_ci, Confrm_cases,Hosp_treated,Outpatient,Vacc, Costs = CI_TC(D, Dtilde)\n",
    "        \n",
    "        change_ci = ((final_ci-Base_final_ci)/Base_final_ci)*100\n",
    "        change_confirmed_case = ((Confrm_cases - Base_confirmed_cases)/Base_confirmed_cases)*100\n",
    "        change_cost = ((total_cost-Base_total_cost)/Base_total_cost)*100\n",
    "                                           \n",
    "        Cost[i].append(change_cost)\n",
    "        CI[i].append(change_ci)\n",
    "        Confirmed_cases[i].append(change_confirmed_case)\n",
    "\n",
    "        if D == D_values[0] and Dtilde == D_values[0]:\n",
    "            Only_mandatory = [final_ci, total_cost]\n",
    "            print('D_0_Dtilde_0(Total cases, Tested, Hospitalized, outpatient, vaccinated, total cost)=', [final_ci,Confrm_cases,Hosp_treated,Outpatient,Vacc,total_cost])\n",
    "            print('D_0_Dtilde_0 Costs (Hosp_treatment_cost, Out_patient_treatment_cost, Vaccination_cost, Testing_cost)=', Costs)\n",
    "            \n",
    "        if D == D_values[0] and Dtilde == D_values[-1]:\n",
    "            max_test = [final_ci, total_cost]\n",
    "            \n",
    "            print('D_0_Dtilde_10(Total cases, Tested, Hospitalized, outpatient, vaccinated, total cost)=', [final_ci,Confrm_cases,Hosp_treated,Outpatient,Vacc,total_cost])\n",
    "            print('D_0_Dtilde_10 Costs (Hosp_treatment_cost, Out_patient_treatment_cost, Vaccination_cost, Testing_cost)=', Costs)\n",
    "            \n",
    "        elif D == D_values[-1] and Dtilde == D_values[0]:\n",
    "            max_vacc = [final_ci, total_cost]\n",
    "            print('D_10_Dtilde_0(Total cases, Tested, Hospitalized, outpatient, vaccinated, total cost)=', [final_ci,Confrm_cases,Hosp_treated,Outpatient,Vacc,total_cost])\n",
    "            print('D_10_Dtilde_0 Costs (Hosp_treatment_cost, Out_patient_treatment_cost, Vaccination_cost, Testing_cost)=', Costs)\n",
    "            \n",
    "        elif D == D_values[-1] and Dtilde == D_values[-1]:\n",
    "            max_vacc_test = [final_ci, total_cost]\n",
    "            print('D_10_Dtilde_10(Total cases, Tested, Hospitalized, outpatient, vaccinated, total cost)=', [final_ci,Confrm_cases,Hosp_treated,Outpatient,Vacc,total_cost])\n",
    "            print('D_10_Dtilde_10 Costs (Hosp_treatment_cost, Out_patient_treatment_cost, Vaccination_cost, Testing_cost)=', Costs)\n",
    "            \n",
    "        \n",
    "        \n",
    "    i = i + 1;      \n",
    "Cost = np.array(Cost)\n",
    "CI = np.array(CI)\n",
    "Confirmed_cases = np.array(Confirmed_cases)"
   ]
  },
  {
   "cell_type": "code",
   "execution_count": 9,
   "id": "8a7044f2-49cd-4b65-8811-a36a5dcab383",
   "metadata": {},
   "outputs": [],
   "source": [
    "Max_test_icer = (max_test[1]-Only_mandatory[1])/(Only_mandatory[0] - max_test[0])\n",
    "Max_vacc_icer = (max_vacc[1]-Only_mandatory[1])/(Only_mandatory[0] - max_vacc[0])\n",
    "Max_vacc_test_icer = (max_vacc_test[1]-Only_mandatory[1])/(Only_mandatory[0] - max_vacc_test[0])"
   ]
  },
  {
   "cell_type": "code",
   "execution_count": 10,
   "id": "6df7608f-7b6d-4adb-acdc-1a9a42b2de1c",
   "metadata": {},
   "outputs": [
    {
     "name": "stdout",
     "output_type": "stream",
     "text": [
      "                    Response level   Total cases          Cost       ICER\n",
      "0                   Only mandatory  3.711170e+07  1.051089e+09   0.000000\n",
      "1                Test response =10  3.054731e+07  1.471778e+09  64.086507\n",
      "2        Vaccination response = 10  3.513980e+07  1.151282e+09  50.810182\n",
      "3  Both vacc and test response =10  2.866038e+07  1.535924e+09  57.368017\n"
     ]
    }
   ],
   "source": [
    "Data = {'Response level': ['Only mandatory', 'Test response =10', 'Vaccination response = 10', 'Both vacc and test response =10'],\n",
    "       'Total cases': [Only_mandatory[0],max_test[0], max_vacc[0], max_vacc_test[0]], \n",
    "       'Cost': [Only_mandatory[1],max_test[1], max_vacc[1], max_vacc_test[1]],\n",
    "       'ICER': [0, Max_test_icer,Max_vacc_icer , Max_vacc_test_icer]}\n",
    "# Convert to DataFrame\n",
    "df = pd.DataFrame(Data)\n",
    "#df.to_excel(\"Improvment_testing.xlsx\", index=False)\n",
    "# Display DataFrame\n",
    "print(df)"
   ]
  },
  {
   "cell_type": "code",
   "execution_count": 13,
   "id": "ab8da3c9-3390-4334-b8fb-d9c58c6b7bf8",
   "metadata": {},
   "outputs": [
    {
     "data": {
      "image/png": "[encoded data removed]",
      "text/plain": [
       "<Figure size 1200x400 with 6 Axes>"
      ]
     },
     "metadata": {},
     "output_type": "display_data"
    }
   ],
   "source": [
    "levels_ci = 21 \n",
    "levels_tc = 21\n",
    "\n",
    "fig, axs = plt.subplots(1,3,figsize=(12,4))\n",
    "title_lable = ['(a) \\n Total cases ', '(b) \\n Confirmed cases ', '(c) \\n Total cost ']\n",
    "info_cove = [0.1, 0.51, 0.9]\n",
    "\n",
    "for j in [0,1,2]:\n",
    "    axs[0].set_ylabel(r'Response to voluntary testing ',fontsize=16,fontweight=\"bold\")\n",
    "    axs[j].set_xlabel(r'Response to voluntary vaccination',fontsize=16, fontweight=\"bold\")\n",
    "    axs[j].set_title(title_lable[j],fontsize=16, fontweight=\"bold\")\n",
    "    \n",
    "    if j == 0:        \n",
    "        img0 = axs[j].contourf(D_values, Dtilde_values, CI.T,levels=levels_ci,cmap = 'rainbow') #cmap = 'rainbow' \n",
    "        plt.colorbar(img0,format=tkr.FormatStrFormatter('%.0f')).set_label('Change in cases (\\%) ', rotation= -270, labelpad=10)\n",
    "\n",
    "        # Add contour line where percent change is zero\n",
    "        # zero_contour = axs[j].contour(D_values, Dtilde_values, CI.T, levels=[0], colors='black', linewidths=2, linestyles='--')\n",
    "        # axs[j].clabel(zero_contour, fmt = \"Zero Change\", fontsize=10, colors='black') \n",
    "        \n",
    "    elif j == 1:            \n",
    "        \n",
    "        img0 = axs[j].contourf(D_values, Dtilde_values, Confirmed_cases.T, levels = levels_confirmed_case, cmap = 'rainbow') #cmap = 'rainbow' \n",
    "        plt.colorbar(img0,format=tkr.FormatStrFormatter('%.0f')).set_label('Change in confirmed cases (\\%)', rotation= -270, labelpad=10)\n",
    "\n",
    "        # Add contour line where percent change is zero\n",
    "        # zero_contour = axs[j].contour(D_values, Dtilde_values, Confirmed_cases.T, levels=[0], colors='black', linewidths=2, linestyles='--')\n",
    "        # axs[j].clabel(zero_contour, fmt = \"Zero Change\", fontsize=10, colors='black') \n",
    "        \n",
    "    elif j == 2:            \n",
    "        \n",
    "        img0 = axs[j].contourf(D_values, Dtilde_values, Cost.T,levels=levels_ci,cmap = 'rainbow') #cmap = 'rainbow' \n",
    "        plt.colorbar(img0,format=tkr.FormatStrFormatter('%.0f')).set_label('Change in total cost (\\%) ', rotation= -270, labelpad=10)\n",
    "\n",
    "        # Add contour line where percent change is zero\n",
    "        # zero_contour = axs[j].contour(D_values, Dtilde_values, Cost.T, levels=[0], colors='black', linewidths=2, linestyles='--')\n",
    "        # axs[j].clabel(zero_contour, fmt = \"Zero Change\", fontsize=10, colors='black')\n",
    "\n",
    "plt.tight_layout()\n",
    "#plt.suptitle('Total cost per cumulative incidence with varying information coverage and priortiation by immune individuals',y =1.07, fontsize=16)\n",
    "plt.savefig('Contour_effect_reactivity.pdf', bbox_inches='tight', pad_inches=0.1, dpi =600)\n",
    "plt.show()"
   ]
  },
  {
   "cell_type": "code",
   "execution_count": null,
   "id": "89d21f6f-cf19-4a27-852c-a2ac568c401b",
   "metadata": {},
   "outputs": [],
   "source": [
    "\n"
   ]
  },
  {
   "cell_type": "code",
   "execution_count": null,
   "id": "43d8856b-d5a5-4a97-8ec3-fb64cbdebfcf",
   "metadata": {},
   "outputs": [],
   "source": []
  }
 ],
 "metadata": {
  "kernelspec": {
   "display_name": "Python 3 (ipykernel)",
   "language": "python",
   "name": "python3"
  },
  "language_info": {
   "codemirror_mode": {
    "name": "ipython",
    "version": 3
   },
   "file_extension": ".py",
   "mimetype": "text/x-python",
   "name": "python",
   "nbconvert_exporter": "python",
   "pygments_lexer": "ipython3",
   "version": "3.11.5"
  }
 },
 "nbformat": 4,
 "nbformat_minor": 5
}
